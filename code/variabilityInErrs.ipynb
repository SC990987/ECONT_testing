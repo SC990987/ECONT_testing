{
 "cells": [
  {
   "cell_type": "code",
   "execution_count": 63,
   "id": "a5c61900",
   "metadata": {},
   "outputs": [],
   "source": [
    "import numpy as np\n",
    "import matplotlib.pyplot as plt\n",
    "from numpy import genfromtxt\n",
    "import os\n",
    "import matplotlib.colors as mcolors"
   ]
  },
  {
   "cell_type": "code",
   "execution_count": 109,
   "id": "b38146ce",
   "metadata": {},
   "outputs": [],
   "source": [
    "variability = np.zeros((15,12))"
   ]
  },
  {
   "cell_type": "code",
   "execution_count": 110,
   "id": "8386a68a",
   "metadata": {},
   "outputs": [],
   "source": [
    "nTrials = 10 ## change this for the amount of data files"
   ]
  },
  {
   "cell_type": "code",
   "execution_count": 111,
   "id": "9445589d",
   "metadata": {},
   "outputs": [],
   "source": [
    "test = np.zeros((nTrials,15,12))"
   ]
  },
  {
   "cell_type": "code",
   "execution_count": 112,
   "id": "4338bbb7",
   "metadata": {},
   "outputs": [],
   "source": [
    "def data_load(vSet,vSetFirstDig,boardNum):\n",
    "    for i in range(nTrials):\n",
    "       temp1 = genfromtxt(f\"/Users/alexcampbell/documents/research/Fermilab/ECONT_testing/board{boardNum}/{vSet}_{i}_prbs_counters_scan_0.05s_1.2V_999board.csv\", delimiter=',')\n",
    "       temp2 = temp1[1:,:]\n",
    "       test[i][:][:] = temp2 \n",
    "    \n",
    "    for i in range(15):\n",
    "        for j in range(12):\n",
    "            a = []\n",
    "            for k in range(nTrials):\n",
    "                a.append(test[k][i][j])#[test[0][i][j],test[1][i][j],test[2][i][j],test[3][i][j],test[4][i][j],test[5][i][j],test[6][i][j],test[7][i][j],test[8][i][j],test[9][i][j]]\n",
    "            a = np.array(a)\n",
    "            variability[i][j] = np.std(a)\n",
    "    \n",
    "    a,b=np.meshgrid(np.arange(12),np.arange(15))\n",
    "    norm = mcolors.TwoSlopeNorm(vmin=0, vmax = 255, vcenter=.9)\n",
    "    plt.hist2d(a.flatten(),b.flatten(),weights=variability.flatten(),bins=(np.arange(13),np.arange(14)),cmap='bwr',norm = norm);\n",
    "    plt.colorbar().set_label(label='Std. Dev. in transmission errors rate ',size=11)\n",
    "    plt.title(f\"1.28 GHz input phase alignment, {vSetFirstDig}V\", size=12)\n",
    "    plt.ylabel('Phase Select Setting', size=13)\n",
    "    plt.xlabel('Channel Number', size=13)\n",
    "    plt.savefig(f'/Users/alexcampbell/documents/research/Fermilab/ECONT_testing/board{boardNum}/{vSet}_variance_in_errors.png',dpi=300, facecolor = \"w\")\n",
    "    plt.clf()\n",
    "    plt.hist2d(a.flatten(),b.flatten(),weights=test[0][:][:].flatten(),bins=(np.arange(13),np.arange(14)),cmap='bwr',norm = norm);\n",
    "    plt.colorbar().set_label(label='Data (PRBS) transmission errors rate ',size=11)\n",
    "    plt.title(f\"1.28 GHz input phase alignment, {vSetFirstDig}V\", size=12)\n",
    "    plt.ylabel('Phase Select Setting', size=13)\n",
    "    plt.xlabel('Channel Number', size=13)\n",
    "    plt.savefig(f'/Users/alexcampbell/documents/research/Fermilab/ECONT_testing/board{boardNum}/{vSet}_phase_scan_single_color.png',dpi=300, facecolor = \"w\")\n",
    "    plt.clf()"
   ]
  },
  {
   "cell_type": "code",
   "execution_count": 113,
   "id": "4ce7e877",
   "metadata": {},
   "outputs": [
    {
     "data": {
      "text/plain": [
       "<Figure size 432x288 with 0 Axes>"
      ]
     },
     "metadata": {},
     "output_type": "display_data"
    }
   ],
   "source": [
    "data_load(108,1.08,999)\n",
    "data_load(120,1.20,999)\n",
    "data_load(132,1.32,999)"
   ]
  },
  {
   "cell_type": "code",
   "execution_count": 107,
   "id": "f9cb8827",
   "metadata": {},
   "outputs": [],
   "source": [
    "i = 8\n",
    "j = 2\n",
    "a = [test[0][i][j],test[1][i][j],test[2][i][j],test[3][i][j],test[4][i][j],test[5][i][j],test[6][i][j],test[7][i][j],test[8][i][j],test[9][i][j]]"
   ]
  },
  {
   "cell_type": "code",
   "execution_count": 108,
   "id": "b7701091",
   "metadata": {},
   "outputs": [
    {
     "data": {
      "text/plain": [
       "[255.0, 151.0, 106.0, 128.0, 91.0, 99.0, 101.0, 109.0, 99.0, 76.0]"
      ]
     },
     "execution_count": 108,
     "metadata": {},
     "output_type": "execute_result"
    }
   ],
   "source": [
    "a"
   ]
  }
 ],
 "metadata": {
  "kernelspec": {
   "display_name": "Python 3 (ipykernel)",
   "language": "python",
   "name": "python3"
  },
  "language_info": {
   "codemirror_mode": {
    "name": "ipython",
    "version": 3
   },
   "file_extension": ".py",
   "mimetype": "text/x-python",
   "name": "python",
   "nbconvert_exporter": "python",
   "pygments_lexer": "ipython3",
   "version": "3.9.12"
  }
 },
 "nbformat": 4,
 "nbformat_minor": 5
}
