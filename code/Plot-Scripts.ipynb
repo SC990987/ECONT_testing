{
 "cells": [
  {
   "cell_type": "markdown",
   "id": "d31675a9",
   "metadata": {},
   "source": [
    "### ECON-T Scripts"
   ]
  },
  {
   "cell_type": "code",
   "execution_count": 1,
   "id": "a60a0bbc",
   "metadata": {},
   "outputs": [],
   "source": [
    "import numpy as np\n",
    "import matplotlib.pyplot as plt\n",
    "from numpy import genfromtxt\n",
    "import os\n",
    "import matplotlib.colors as mcolors\n",
    "from ast import literal_eval\n",
    "from scipy.optimize import curve_fit\n",
    "import pandas as pd\n",
    "import matplotlib.patches as mpatches\n",
    "import sys"
   ]
  },
  {
   "cell_type": "markdown",
   "id": "a51dec8d",
   "metadata": {},
   "source": [
    "#### PRBS Scan: can do average and std dev"
   ]
  },
  {
   "cell_type": "code",
   "execution_count": null,
   "id": "2567b495",
   "metadata": {},
   "outputs": [],
   "source": [
    "def data_load(nTrials,vSet,vSetFirstDig,boardNum,runNum):\n",
    "    variability = np.zeros((15,12))\n",
    "    average = np.zeros((15,12))\n",
    "    test = np.zeros((nTrials,15,12))\n",
    "    for i in range(nTrials):\n",
    "       temp1 = genfromtxt(f\"/Users/alexcampbell/documents/research/Fermilab/ECONT_testing/board{boardNum}_run{runNum}/{vSet}_{i}_prbs_counters_scan_0.05s_1.2V_999board.csv\", delimiter=',')\n",
    "       temp2 = temp1[1:,:] \n",
    "       test[i][:][:] = temp2 \n",
    "    \n",
    "    for i in range(15):\n",
    "        for j in range(12):\n",
    "            var1 = []\n",
    "            for k in range(nTrials):\n",
    "                var1.append(test[k][i][j])\n",
    "            var1 = np.array(var1)\n",
    "            variability[i][j] = np.std(var1)\n",
    "            average[i][j] = np.average(var1)\n",
    "    \n",
    "    ## plots the Std dev in transmission errors rate\n",
    "    a,b=np.meshgrid(np.arange(12),np.arange(15))\n",
    "    norm = mcolors.TwoSlopeNorm(vmin=0, vmax = 255, vcenter=.9)\n",
    "    plt.hist2d(a.flatten(),b.flatten(),weights=variability.flatten(),bins=(np.arange(13),np.arange(15)),cmap='bwr');\n",
    "    plt.rcParams.update({'font.size': 32})\n",
    "    plt.colorbar().set_label(label='Std. Dev. in transmission errors rate ',size=32)\n",
    "    plt.title(f\"1.28 GHz input phase alignment, {vSetFirstDig}V\", size=32)\n",
    "    plt.ylabel('Phase Select Setting', size=32)\n",
    "    plt.xlabel('Channel Number', size=32)\n",
    "    plt.savefig(f'/Users/alexcampbell/documents/research/Fermilab/ECONT_testing/board{boardNum}_run{runNum}/plots/{vSet}_variance_in_errors.png',dpi=300, facecolor = \"w\")\n",
    "    plt.clf()\n",
    "    \n",
    "    ## plots the average of the transmission errors rate\n",
    "    plt.hist2d(a.flatten(),b.flatten(),weights=average.flatten(),bins=(np.arange(13),np.arange(15)),cmap='bwr',norm = norm);\n",
    "    plt.rcParams.update({'font.size': 32})\n",
    "    plt.colorbar().set_label(label='Data (PRBS) transmission errors rate ',size=32)\n",
    "    plt.title(f\"1.28 GHz input phase alignment, {vSetFirstDig}V\", size=32)\n",
    "    plt.ylabel('Phase Select Setting', size=32)\n",
    "    plt.xlabel('Channel Number', size=32)\n",
    "    plt.savefig(f'/Users/alexcampbell/documents/research/Fermilab/ECONT_testing/board{boardNum}_run{runNum}/plots/{vSet}_phase_scan_single_color.png',dpi=300, facecolor = \"w\")\n",
    "    plt.clf()\n",
    "    \n",
    "## Ntrials is just the number of trials\n",
    "## vSet, vSetFirstDig, boardNum, and Run num are just for naming files and loading files\n",
    "## This can be changed"
   ]
  },
  {
   "cell_type": "markdown",
   "id": "7a5cb511",
   "metadata": {},
   "source": [
    "#### Delay Scan"
   ]
  },
  {
   "cell_type": "code",
   "execution_count": null,
   "id": "61d002ee",
   "metadata": {},
   "outputs": [],
   "source": [
    "def delayData(nTrials,vSet,vSetFirstDig,boardNum,runNum):\n",
    "    delayVar = np.zeros((13,128))\n",
    "    delayAverage = np.zeros((13,128))\n",
    "    test = np.zeros((nTrials,13,128))\n",
    "    for i in range(nTrials):\n",
    "        mainlist=[]\n",
    "        with open(f\"/Users/alexcampbell/documents/research/Fermilab/ECONT_testing/board{boardNum}_run{runNum}/{vSet}_{i}_delay_scan_errors.txt\") as f:\n",
    "            mainlist = [list(literal_eval(line)) for line in f]\n",
    "        dataDelay = np.array(mainlist)\n",
    "        test[i][:][:] = dataDelay\n",
    "    for i in range(test.shape[1]):\n",
    "        for j in range(test.shape[2]):\n",
    "            var1 = []\n",
    "            for k in range(nTrials):\n",
    "                var1.append(test[k][i][j])\n",
    "            var1 = np.array(var1)\n",
    "            delayVar[i][j] = np.std(var1)\n",
    "            delayAverage[i][j] = np.average(var1)\n",
    "            \n",
    "     ## plots the Std dev in transmission errors rate\n",
    "    a,b=np.meshgrid(np.arange(13),np.arange(128))\n",
    "    plt.hist2d(a.flatten(),b.flatten(),weights=delayVar.T.flatten(),bins=(np.arange(14),np.arange(129)),cmap='bwr');\n",
    "    plt.colorbar().set_label(label='Std. Dev. in transmission errors rate ',size=11)\n",
    "    plt.title(f\"1.28 GHz input phase alignment, {vSetFirstDig}V\", size=12)\n",
    "    plt.ylabel('Phase Select Setting', size=13)\n",
    "    plt.xlabel('Channel Number', size=13)\n",
    "    plt.savefig(f'/Users/alexcampbell/documents/research/Fermilab/ECONT_testing/board{boardNum}_run{runNum}/plots/{vSet}_delay_variance_in_errors.png',dpi=300, facecolor = \"w\")\n",
    "#     plt.clf()\n",
    "    plt.figure()\n",
    "    \n",
    "    ## plots the average of the transmission errors rate\n",
    "    plt.hist2d(a.flatten(),b.flatten(),weights=delayAverage.T.flatten(),bins=(np.arange(14),np.arange(129)),cmap='bwr');\n",
    "    plt.colorbar().set_label(label='Data (delay scan) transmission errors rate ',size=11)\n",
    "    plt.title(f\"1.28 GHz input phase alignment, {vSetFirstDig}V\", size=12)\n",
    "    plt.ylabel('Phase Select Setting', size=13)\n",
    "    plt.xlabel('Channel Number', size=13)\n",
    "    plt.savefig(f'/Users/alexcampbell/documents/research/Fermilab/ECONT_testing/board{boardNum}_run{runNum}/plots/{vSet}_delay_scan_single_color.png',dpi=300, facecolor = \"w\")\n",
    "    #plt.clf()\n",
    "    \n",
    "    \n",
    "### Arguments for the function are the same for the prbs scan and this also computes the average\n",
    "### and std dev"
   ]
  },
  {
   "cell_type": "markdown",
   "id": "2c331bd4",
   "metadata": {},
   "source": [
    "#### PLL Scan"
   ]
  },
  {
   "cell_type": "code",
   "execution_count": null,
   "id": "d5c3ebc2",
   "metadata": {},
   "outputs": [],
   "source": [
    "def pllECONT(indir, fname, scale):\n",
    "    mainlist=[]\n",
    "    with open(f\"{indir}/{fname}.txt\") as f:\n",
    "        mainlist = [list(literal_eval(line)) for line in f]\n",
    "    pllSettings = np.array(mainlist)\n",
    "    b,a=np.meshgrid(np.arange(35,44,(1/scale)),np.arange(56))\n",
    "    plt.hist2d(b.flatten(),a.flatten(),weights=pllSettings.T.flatten(),bins=(np.arange(34,45,(1/scale)),np.arange(57)),cmap='Blues')\n",
    "    plt.xlabel('Reference Clock Frequency Setting (MHz)', size=32)\n",
    "    plt.ylabel('CapBank Select Setting', size=32)\n",
    "    handles, labels = plt.gca().get_legend_handles_labels()\n",
    "    patch = mpatches.Patch(color='#08306b', label='PLL Lock with VCO Override')\n",
    "    handles.append(patch)\n",
    "    #ax.xaxis.set_ticks(np.arange(0, 50, (1/32))\n",
    "    plt.legend(handles=handles, loc='lower left')\n",
    "    plt.title(\"ECON-T-P1\")\n",
    "    plt.axvline(40)\n",
    "    plt.rcParams.update({'font.size': 15})\n",
    "    plt.xlim([35,50])\n",
    "    plt.savefig(f'{indir}/PLLSetting_1_{scale}_2_flipped_axes.png',dpi=300, facecolor = \"w\")\n",
    "    # plt.plot(d[0][:],e[0][:], label = \"1.08 V\")\n",
    "    # plt.plot(d[1][:],e[1][:], label = \"1.20 V\")\n",
    "    # plt.plot(d[2][:],e[2][:], label = \"1.32 V\")\n",
    "    # plt.legend(title=\"ASIC 18\")\n",
    "    plt.figure()\n",
    "## indir is the input directory\n",
    "## fname is the data file name\n",
    "## scale just means the denominator in 1/(step size)"
   ]
  },
  {
   "cell_type": "markdown",
   "id": "2f98b192",
   "metadata": {},
   "source": [
    "### ECON-D Plot Scripts"
   ]
  },
  {
   "cell_type": "markdown",
   "id": "7e90edb0",
   "metadata": {},
   "source": [
    "#### PRBS Scan "
   ]
  },
  {
   "cell_type": "code",
   "execution_count": null,
   "id": "670f75a6",
   "metadata": {},
   "outputs": [],
   "source": [
    "def prbsECOND(indir, fname):\n",
    "    ### indir is the input directory\n",
    "    ### fname is the data file name\n",
    "    new_data = np.load(f\"{indir}/{fname}.npy\")\n",
    "    a,b=np.meshgrid(np.arange(12),np.arange(15))\n",
    "    norm = mcolors.TwoSlopeNorm(vmin=0, vmax = 255, vcenter=.9)\n",
    "    plt.hist2d(a.flatten(),b.flatten(),weights=new_data.flatten(),bins=(np.arange(13),np.arange(16)),cmap='bwr',norm=norm);\n",
    "    plt.colorbar().set_label(label='Data (PRBS) transmission errors rate ',size=32)\n",
    "    #plt.title(f\"1.28 GHz input phase alignment, 1.20V\", size=32)\n",
    "    #plt.title(\"Phase Scan for ECON-T-P1 at 40MHz\",size=\"28\")\n",
    "    plt.ylabel('Phase Select Setting', size=32)\n",
    "    plt.xlabel('Channel Number', size=32)\n",
    "    plt.savefig(f'{indir}/prbs_counters_scan.png',dpi=300, facecolor = \"w\")"
   ]
  },
  {
   "cell_type": "markdown",
   "id": "9e0288e9",
   "metadata": {},
   "source": [
    "#### PLL Scan"
   ]
  },
  {
   "cell_type": "code",
   "execution_count": null,
   "id": "bfa80395",
   "metadata": {},
   "outputs": [],
   "source": [
    "def econd_pLL_test(boardNum,scale,indir,fname):\n",
    "    ## boardNum is the board number\n",
    "    ## scale is the same as before \n",
    "    ## load the data\n",
    "    data2 = genfromtxt(f\"{indir}/{fname}_autolocks.csv\", delimiter=',')\n",
    "    data = pd.read_csv(f\"{indir}/{fname}_locks.csv\", header=None,skiprows=1).to_numpy()\n",
    "    ## fname is this case is the extension before _autolocks or _locks\n",
    "    \n",
    "    ## Set some variables\n",
    "    allowed_cap_bank_vals=np.array([  0,   1,   2,   3,   4,   5,   6,   7,   8,   9,  10,  11,  12,\n",
    "                                  13,  14,  15,  24,  25,  26,  27,  28,  29,  30,  31,  56,  57,\n",
    "                                  58,  59,  60,  61,  62,  63, 120, 121, 122, 123, 124, 125, 126,\n",
    "                                  127, 248, 249, 250, 251, 252, 253, 254, 255, 504, 505, 506,       507,\n",
    "                                  508, 509, 510, 511])\n",
    "\n",
    "    capSettings = np.zeros(len(data2[1]))\n",
    "    a = [] ## list of cap settings where it locks\n",
    "    b = [] ## list of frequencies that correspond to a\n",
    "\n",
    "\n",
    "    for i in range (len(data2[1])):\n",
    "        for j in range(56):\n",
    "            if data2[1][i] == allowed_cap_bank_vals[j]:\n",
    "                capSettings[i] = j\n",
    "\n",
    "    for i in range(len(data2[1])):\n",
    "        if data2[2][i] == 1:\n",
    "            a.append(capSettings[i])\n",
    "            b.append(data2[0][i])\n",
    "\n",
    "    x = np.array(a)\n",
    "    y = np.array(b)\n",
    "    \n",
    "    \n",
    "    ## Make the plots\n",
    "    b,a=np.meshgrid(np.arange(40,50,(1/scale)),np.arange(56))\n",
    "    plt.hist2d(b.flatten(),a.flatten(),weights=data.T.flatten(),bins=(np.arange(40,51,(1/scale))-(0.5/scale),np.arange(57)-0.5),cmap='Blues', label =\"PLL Lock\")\n",
    "    plt.scatter((y/8),x,color=\"red\",label=\"Automatic Lock\")\n",
    "    #plt.colorbar().set_label(label='PLL Locking Status',size=32)\n",
    "    handles, labels = plt.gca().get_legend_handles_labels()\n",
    "    patch = mpatches.Patch(color='#08306b', label='PLL Lock with VCO Override')\n",
    "    handles.append(patch) \n",
    "\n",
    "    plt.legend(handles=handles, loc='lower left')\n",
    "    plt.xlabel('Frequency Setting (MHz)', size=32)\n",
    "    plt.ylabel('CapBank Select Setting', size=32)\n",
    "    #plt.title(f'Board Number {boardNum}')\n",
    "    plt.title(\"ECON-D-P1 Board 5 PLL Scan\")\n",
    "    plt.xlim([35,50])\n",
    "    plt.savefig(f'{indir}/ECOND-PLL-1_{scale}_BoardNum{boardNum}.png',dpi=300, facecolor = \"w\")\n",
    "    print()\n",
    "\n",
    "    "
   ]
  }
 ],
 "metadata": {
  "kernelspec": {
   "display_name": "Python 3 (ipykernel)",
   "language": "python",
   "name": "python3"
  },
  "language_info": {
   "codemirror_mode": {
    "name": "ipython",
    "version": 3
   },
   "file_extension": ".py",
   "mimetype": "text/x-python",
   "name": "python",
   "nbconvert_exporter": "python",
   "pygments_lexer": "ipython3",
   "version": "3.9.12"
  }
 },
 "nbformat": 4,
 "nbformat_minor": 5
}
